{
 "cells": [
  {
   "cell_type": "markdown",
   "id": "cfc5e7a4",
   "metadata": {},
   "source": [
    "## Imports"
   ]
  },
  {
   "cell_type": "code",
   "execution_count": 21,
   "id": "529d6459",
   "metadata": {},
   "outputs": [],
   "source": [
    "import cvxpy as cp\n",
    "import gurobipy as gp\n",
    "import numpy as np\n",
    "import pandas as pd\n",
    "from gurobipy import GRB"
   ]
  },
  {
   "cell_type": "markdown",
   "id": "42e4bbf1",
   "metadata": {},
   "source": [
    "## Read Data"
   ]
  },
  {
   "cell_type": "code",
   "execution_count": 22,
   "id": "5c30842f",
   "metadata": {},
   "outputs": [],
   "source": [
    "arrivals_df = pd.read_excel(\"Arrivals.xlsx\")\n",
    "arrivals_df[\"Type\"] = \"Arrival\"\n",
    "\n",
    "departures_df = pd.read_excel(\"Departures.xlsx\")\n",
    "departures_df[\"Type\"] = \"Departure\"\n",
    "\n",
    "gates_df = pd.read_excel(\"Gates.xlsx\")\n",
    "\n",
    "all_flights_df = pd.concat([arrivals_df, departures_df])"
   ]
  },
  {
   "cell_type": "code",
   "execution_count": 23,
   "id": "c61aed0c",
   "metadata": {},
   "outputs": [
    {
     "data": {
      "text/html": [
       "<div>\n",
       "<style scoped>\n",
       "    .dataframe tbody tr th:only-of-type {\n",
       "        vertical-align: middle;\n",
       "    }\n",
       "\n",
       "    .dataframe tbody tr th {\n",
       "        vertical-align: top;\n",
       "    }\n",
       "\n",
       "    .dataframe thead th {\n",
       "        text-align: right;\n",
       "    }\n",
       "</style>\n",
       "<table border=\"1\" class=\"dataframe\">\n",
       "  <thead>\n",
       "    <tr style=\"text-align: right;\">\n",
       "      <th></th>\n",
       "      <th>Flight Number</th>\n",
       "      <th>Arrival Time</th>\n",
       "      <th>Departure Time</th>\n",
       "      <th>Passengers</th>\n",
       "      <th>Type</th>\n",
       "    </tr>\n",
       "  </thead>\n",
       "  <tbody>\n",
       "    <tr>\n",
       "      <th>0</th>\n",
       "      <td>2</td>\n",
       "      <td>25</td>\n",
       "      <td>136</td>\n",
       "      <td>106</td>\n",
       "      <td>Arrival</td>\n",
       "    </tr>\n",
       "    <tr>\n",
       "      <th>1</th>\n",
       "      <td>3</td>\n",
       "      <td>41</td>\n",
       "      <td>161</td>\n",
       "      <td>147</td>\n",
       "      <td>Arrival</td>\n",
       "    </tr>\n",
       "    <tr>\n",
       "      <th>2</th>\n",
       "      <td>6</td>\n",
       "      <td>73</td>\n",
       "      <td>187</td>\n",
       "      <td>187</td>\n",
       "      <td>Arrival</td>\n",
       "    </tr>\n",
       "    <tr>\n",
       "      <th>3</th>\n",
       "      <td>7</td>\n",
       "      <td>77</td>\n",
       "      <td>188</td>\n",
       "      <td>121</td>\n",
       "      <td>Arrival</td>\n",
       "    </tr>\n",
       "    <tr>\n",
       "      <th>4</th>\n",
       "      <td>10</td>\n",
       "      <td>111</td>\n",
       "      <td>233</td>\n",
       "      <td>94</td>\n",
       "      <td>Arrival</td>\n",
       "    </tr>\n",
       "    <tr>\n",
       "      <th>...</th>\n",
       "      <td>...</td>\n",
       "      <td>...</td>\n",
       "      <td>...</td>\n",
       "      <td>...</td>\n",
       "      <td>...</td>\n",
       "    </tr>\n",
       "    <tr>\n",
       "      <th>63</th>\n",
       "      <td>120</td>\n",
       "      <td>1325</td>\n",
       "      <td>1447</td>\n",
       "      <td>127</td>\n",
       "      <td>Arrival</td>\n",
       "    </tr>\n",
       "    <tr>\n",
       "      <th>64</th>\n",
       "      <td>124</td>\n",
       "      <td>1369</td>\n",
       "      <td>1499</td>\n",
       "      <td>88</td>\n",
       "      <td>Arrival</td>\n",
       "    </tr>\n",
       "    <tr>\n",
       "      <th>65</th>\n",
       "      <td>126</td>\n",
       "      <td>1390</td>\n",
       "      <td>1513</td>\n",
       "      <td>240</td>\n",
       "      <td>Arrival</td>\n",
       "    </tr>\n",
       "    <tr>\n",
       "      <th>66</th>\n",
       "      <td>127</td>\n",
       "      <td>1398</td>\n",
       "      <td>1513</td>\n",
       "      <td>87</td>\n",
       "      <td>Arrival</td>\n",
       "    </tr>\n",
       "    <tr>\n",
       "      <th>67</th>\n",
       "      <td>129</td>\n",
       "      <td>1427</td>\n",
       "      <td>1548</td>\n",
       "      <td>139</td>\n",
       "      <td>Arrival</td>\n",
       "    </tr>\n",
       "  </tbody>\n",
       "</table>\n",
       "<p>68 rows × 5 columns</p>\n",
       "</div>"
      ],
      "text/plain": [
       "    Flight Number  Arrival Time  Departure Time  Passengers     Type\n",
       "0               2            25             136         106  Arrival\n",
       "1               3            41             161         147  Arrival\n",
       "2               6            73             187         187  Arrival\n",
       "3               7            77             188         121  Arrival\n",
       "4              10           111             233          94  Arrival\n",
       "..            ...           ...             ...         ...      ...\n",
       "63            120          1325            1447         127  Arrival\n",
       "64            124          1369            1499          88  Arrival\n",
       "65            126          1390            1513         240  Arrival\n",
       "66            127          1398            1513          87  Arrival\n",
       "67            129          1427            1548         139  Arrival\n",
       "\n",
       "[68 rows x 5 columns]"
      ]
     },
     "execution_count": 23,
     "metadata": {},
     "output_type": "execute_result"
    }
   ],
   "source": [
    "arrivals_df"
   ]
  },
  {
   "cell_type": "code",
   "execution_count": 24,
   "id": "b22e3526",
   "metadata": {},
   "outputs": [
    {
     "data": {
      "text/html": [
       "<div>\n",
       "<style scoped>\n",
       "    .dataframe tbody tr th:only-of-type {\n",
       "        vertical-align: middle;\n",
       "    }\n",
       "\n",
       "    .dataframe tbody tr th {\n",
       "        vertical-align: top;\n",
       "    }\n",
       "\n",
       "    .dataframe thead th {\n",
       "        text-align: right;\n",
       "    }\n",
       "</style>\n",
       "<table border=\"1\" class=\"dataframe\">\n",
       "  <thead>\n",
       "    <tr style=\"text-align: right;\">\n",
       "      <th></th>\n",
       "      <th>Unnamed: 0</th>\n",
       "      <th>0</th>\n",
       "      <th>1</th>\n",
       "      <th>2</th>\n",
       "      <th>3</th>\n",
       "      <th>4</th>\n",
       "      <th>5</th>\n",
       "      <th>6</th>\n",
       "      <th>7</th>\n",
       "      <th>8</th>\n",
       "      <th>9</th>\n",
       "      <th>10</th>\n",
       "      <th>11</th>\n",
       "      <th>12</th>\n",
       "      <th>13</th>\n",
       "      <th>14</th>\n",
       "    </tr>\n",
       "  </thead>\n",
       "  <tbody>\n",
       "    <tr>\n",
       "      <th>0</th>\n",
       "      <td>0</td>\n",
       "      <td>0</td>\n",
       "      <td>53</td>\n",
       "      <td>45</td>\n",
       "      <td>43</td>\n",
       "      <td>31</td>\n",
       "      <td>29</td>\n",
       "      <td>25</td>\n",
       "      <td>23</td>\n",
       "      <td>19</td>\n",
       "      <td>9</td>\n",
       "      <td>3</td>\n",
       "      <td>15</td>\n",
       "      <td>17</td>\n",
       "      <td>21</td>\n",
       "      <td>23</td>\n",
       "    </tr>\n",
       "    <tr>\n",
       "      <th>1</th>\n",
       "      <td>1</td>\n",
       "      <td>53</td>\n",
       "      <td>0</td>\n",
       "      <td>4</td>\n",
       "      <td>10</td>\n",
       "      <td>22</td>\n",
       "      <td>24</td>\n",
       "      <td>28</td>\n",
       "      <td>30</td>\n",
       "      <td>34</td>\n",
       "      <td>44</td>\n",
       "      <td>50</td>\n",
       "      <td>62</td>\n",
       "      <td>64</td>\n",
       "      <td>68</td>\n",
       "      <td>70</td>\n",
       "    </tr>\n",
       "    <tr>\n",
       "      <th>2</th>\n",
       "      <td>2</td>\n",
       "      <td>45</td>\n",
       "      <td>4</td>\n",
       "      <td>0</td>\n",
       "      <td>6</td>\n",
       "      <td>18</td>\n",
       "      <td>20</td>\n",
       "      <td>24</td>\n",
       "      <td>26</td>\n",
       "      <td>30</td>\n",
       "      <td>40</td>\n",
       "      <td>46</td>\n",
       "      <td>58</td>\n",
       "      <td>60</td>\n",
       "      <td>64</td>\n",
       "      <td>66</td>\n",
       "    </tr>\n",
       "    <tr>\n",
       "      <th>3</th>\n",
       "      <td>3</td>\n",
       "      <td>43</td>\n",
       "      <td>10</td>\n",
       "      <td>6</td>\n",
       "      <td>0</td>\n",
       "      <td>12</td>\n",
       "      <td>14</td>\n",
       "      <td>18</td>\n",
       "      <td>20</td>\n",
       "      <td>24</td>\n",
       "      <td>34</td>\n",
       "      <td>40</td>\n",
       "      <td>52</td>\n",
       "      <td>54</td>\n",
       "      <td>58</td>\n",
       "      <td>60</td>\n",
       "    </tr>\n",
       "    <tr>\n",
       "      <th>4</th>\n",
       "      <td>4</td>\n",
       "      <td>31</td>\n",
       "      <td>22</td>\n",
       "      <td>18</td>\n",
       "      <td>12</td>\n",
       "      <td>0</td>\n",
       "      <td>2</td>\n",
       "      <td>6</td>\n",
       "      <td>8</td>\n",
       "      <td>12</td>\n",
       "      <td>22</td>\n",
       "      <td>28</td>\n",
       "      <td>40</td>\n",
       "      <td>42</td>\n",
       "      <td>46</td>\n",
       "      <td>48</td>\n",
       "    </tr>\n",
       "    <tr>\n",
       "      <th>5</th>\n",
       "      <td>5</td>\n",
       "      <td>29</td>\n",
       "      <td>24</td>\n",
       "      <td>20</td>\n",
       "      <td>14</td>\n",
       "      <td>2</td>\n",
       "      <td>0</td>\n",
       "      <td>4</td>\n",
       "      <td>6</td>\n",
       "      <td>10</td>\n",
       "      <td>20</td>\n",
       "      <td>26</td>\n",
       "      <td>38</td>\n",
       "      <td>40</td>\n",
       "      <td>44</td>\n",
       "      <td>46</td>\n",
       "    </tr>\n",
       "    <tr>\n",
       "      <th>6</th>\n",
       "      <td>6</td>\n",
       "      <td>25</td>\n",
       "      <td>28</td>\n",
       "      <td>24</td>\n",
       "      <td>18</td>\n",
       "      <td>6</td>\n",
       "      <td>4</td>\n",
       "      <td>0</td>\n",
       "      <td>2</td>\n",
       "      <td>6</td>\n",
       "      <td>16</td>\n",
       "      <td>22</td>\n",
       "      <td>34</td>\n",
       "      <td>36</td>\n",
       "      <td>40</td>\n",
       "      <td>42</td>\n",
       "    </tr>\n",
       "    <tr>\n",
       "      <th>7</th>\n",
       "      <td>7</td>\n",
       "      <td>23</td>\n",
       "      <td>30</td>\n",
       "      <td>26</td>\n",
       "      <td>20</td>\n",
       "      <td>8</td>\n",
       "      <td>6</td>\n",
       "      <td>2</td>\n",
       "      <td>0</td>\n",
       "      <td>4</td>\n",
       "      <td>14</td>\n",
       "      <td>20</td>\n",
       "      <td>32</td>\n",
       "      <td>34</td>\n",
       "      <td>38</td>\n",
       "      <td>40</td>\n",
       "    </tr>\n",
       "    <tr>\n",
       "      <th>8</th>\n",
       "      <td>8</td>\n",
       "      <td>19</td>\n",
       "      <td>34</td>\n",
       "      <td>30</td>\n",
       "      <td>24</td>\n",
       "      <td>12</td>\n",
       "      <td>10</td>\n",
       "      <td>6</td>\n",
       "      <td>4</td>\n",
       "      <td>0</td>\n",
       "      <td>10</td>\n",
       "      <td>16</td>\n",
       "      <td>28</td>\n",
       "      <td>30</td>\n",
       "      <td>34</td>\n",
       "      <td>36</td>\n",
       "    </tr>\n",
       "    <tr>\n",
       "      <th>9</th>\n",
       "      <td>9</td>\n",
       "      <td>9</td>\n",
       "      <td>44</td>\n",
       "      <td>40</td>\n",
       "      <td>34</td>\n",
       "      <td>22</td>\n",
       "      <td>20</td>\n",
       "      <td>16</td>\n",
       "      <td>14</td>\n",
       "      <td>10</td>\n",
       "      <td>0</td>\n",
       "      <td>6</td>\n",
       "      <td>18</td>\n",
       "      <td>20</td>\n",
       "      <td>24</td>\n",
       "      <td>26</td>\n",
       "    </tr>\n",
       "    <tr>\n",
       "      <th>10</th>\n",
       "      <td>10</td>\n",
       "      <td>3</td>\n",
       "      <td>50</td>\n",
       "      <td>46</td>\n",
       "      <td>40</td>\n",
       "      <td>28</td>\n",
       "      <td>26</td>\n",
       "      <td>22</td>\n",
       "      <td>20</td>\n",
       "      <td>16</td>\n",
       "      <td>6</td>\n",
       "      <td>0</td>\n",
       "      <td>12</td>\n",
       "      <td>14</td>\n",
       "      <td>18</td>\n",
       "      <td>20</td>\n",
       "    </tr>\n",
       "    <tr>\n",
       "      <th>11</th>\n",
       "      <td>11</td>\n",
       "      <td>15</td>\n",
       "      <td>62</td>\n",
       "      <td>58</td>\n",
       "      <td>52</td>\n",
       "      <td>40</td>\n",
       "      <td>38</td>\n",
       "      <td>34</td>\n",
       "      <td>32</td>\n",
       "      <td>28</td>\n",
       "      <td>18</td>\n",
       "      <td>12</td>\n",
       "      <td>0</td>\n",
       "      <td>2</td>\n",
       "      <td>6</td>\n",
       "      <td>8</td>\n",
       "    </tr>\n",
       "    <tr>\n",
       "      <th>12</th>\n",
       "      <td>12</td>\n",
       "      <td>17</td>\n",
       "      <td>64</td>\n",
       "      <td>60</td>\n",
       "      <td>54</td>\n",
       "      <td>42</td>\n",
       "      <td>40</td>\n",
       "      <td>36</td>\n",
       "      <td>34</td>\n",
       "      <td>30</td>\n",
       "      <td>20</td>\n",
       "      <td>14</td>\n",
       "      <td>2</td>\n",
       "      <td>0</td>\n",
       "      <td>4</td>\n",
       "      <td>6</td>\n",
       "    </tr>\n",
       "    <tr>\n",
       "      <th>13</th>\n",
       "      <td>13</td>\n",
       "      <td>21</td>\n",
       "      <td>68</td>\n",
       "      <td>64</td>\n",
       "      <td>58</td>\n",
       "      <td>46</td>\n",
       "      <td>44</td>\n",
       "      <td>40</td>\n",
       "      <td>38</td>\n",
       "      <td>34</td>\n",
       "      <td>24</td>\n",
       "      <td>18</td>\n",
       "      <td>6</td>\n",
       "      <td>4</td>\n",
       "      <td>0</td>\n",
       "      <td>2</td>\n",
       "    </tr>\n",
       "    <tr>\n",
       "      <th>14</th>\n",
       "      <td>14</td>\n",
       "      <td>23</td>\n",
       "      <td>70</td>\n",
       "      <td>66</td>\n",
       "      <td>60</td>\n",
       "      <td>48</td>\n",
       "      <td>46</td>\n",
       "      <td>42</td>\n",
       "      <td>40</td>\n",
       "      <td>36</td>\n",
       "      <td>26</td>\n",
       "      <td>20</td>\n",
       "      <td>8</td>\n",
       "      <td>6</td>\n",
       "      <td>2</td>\n",
       "      <td>0</td>\n",
       "    </tr>\n",
       "  </tbody>\n",
       "</table>\n",
       "</div>"
      ],
      "text/plain": [
       "    Unnamed: 0   0   1   2   3   4   5   6   7   8   9  10  11  12  13  14\n",
       "0            0   0  53  45  43  31  29  25  23  19   9   3  15  17  21  23\n",
       "1            1  53   0   4  10  22  24  28  30  34  44  50  62  64  68  70\n",
       "2            2  45   4   0   6  18  20  24  26  30  40  46  58  60  64  66\n",
       "3            3  43  10   6   0  12  14  18  20  24  34  40  52  54  58  60\n",
       "4            4  31  22  18  12   0   2   6   8  12  22  28  40  42  46  48\n",
       "5            5  29  24  20  14   2   0   4   6  10  20  26  38  40  44  46\n",
       "6            6  25  28  24  18   6   4   0   2   6  16  22  34  36  40  42\n",
       "7            7  23  30  26  20   8   6   2   0   4  14  20  32  34  38  40\n",
       "8            8  19  34  30  24  12  10   6   4   0  10  16  28  30  34  36\n",
       "9            9   9  44  40  34  22  20  16  14  10   0   6  18  20  24  26\n",
       "10          10   3  50  46  40  28  26  22  20  16   6   0  12  14  18  20\n",
       "11          11  15  62  58  52  40  38  34  32  28  18  12   0   2   6   8\n",
       "12          12  17  64  60  54  42  40  36  34  30  20  14   2   0   4   6\n",
       "13          13  21  68  64  58  46  44  40  38  34  24  18   6   4   0   2\n",
       "14          14  23  70  66  60  48  46  42  40  36  26  20   8   6   2   0"
      ]
     },
     "execution_count": 24,
     "metadata": {},
     "output_type": "execute_result"
    }
   ],
   "source": [
    "gates_df ## Gates Start from 1 (Gate 0 is the terminal entry)"
   ]
  },
  {
   "cell_type": "markdown",
   "id": "77874862",
   "metadata": {},
   "source": [
    "## Utility Functions"
   ]
  },
  {
   "cell_type": "code",
   "execution_count": 25,
   "id": "1bb7e5c2",
   "metadata": {},
   "outputs": [],
   "source": [
    "def get_distance(i): # Distance of gate i to gate 0\n",
    "    return gates_df[0][i]\n",
    "\n",
    "def get_distance(i, j):\n",
    "    return gates_df[i][j]\n",
    "\n",
    "def get_arrival_time(i):\n",
    "    result = all_flights_df[all_flights_df[\"Flight Number\"] == i][\"Arrival Time\"]\n",
    "    assert(len(result) == 1)\n",
    "    return int(result)\n",
    "\n",
    "def get_departure_time(i):\n",
    "    result = all_flights_df[all_flights_df[\"Flight Number\"] == i][\"Departure Time\"]\n",
    "    assert(len(result) == 1)\n",
    "    return int(result)\n",
    "\n",
    "def get_num_passengers(i):\n",
    "    result = all_flights_df[all_flights_df[\"Flight Number\"] == i][\"Passengers\"]\n",
    "    assert(len(result) == 1)\n",
    "    return int(result)"
   ]
  },
  {
   "cell_type": "markdown",
   "id": "f05015d9",
   "metadata": {},
   "source": [
    "### Tests"
   ]
  },
  {
   "cell_type": "code",
   "execution_count": 26,
   "id": "20e644a8",
   "metadata": {},
   "outputs": [],
   "source": [
    "assert(get_distance(5,3) == 14)\n",
    "assert(get_distance(14,14) == 0)\n",
    "assert(get_distance(4,11) == 40)"
   ]
  },
  {
   "cell_type": "code",
   "execution_count": 27,
   "id": "dda11178",
   "metadata": {},
   "outputs": [],
   "source": [
    "## Basic Assertions on the Data\n",
    "flight_numbers = sorted(list(arrivals_df[\"Flight Number\"]) + list(departures_df[\"Flight Number\"]))\n",
    "assert(flight_numbers == list(range(1,131)))\n",
    "\n",
    "flight_numbers = sorted(list(all_flights_df[\"Flight Number\"]))\n",
    "assert(flight_numbers == list(range(1,131)))"
   ]
  },
  {
   "cell_type": "markdown",
   "id": "cf4c5b4e",
   "metadata": {},
   "source": [
    "## Setup Gates"
   ]
  },
  {
   "cell_type": "code",
   "execution_count": 28,
   "id": "5e26427e",
   "metadata": {},
   "outputs": [
    {
     "data": {
      "text/plain": [
       "[0, 1, 2, 3, 4, 5, 6, 7, 8, 9, 10, 11, 12, 13]"
      ]
     },
     "execution_count": 28,
     "metadata": {},
     "output_type": "execute_result"
    }
   ],
   "source": [
    "num_gates = 14\n",
    "gates = [i for i in range(num_gates)]\n",
    "gates"
   ]
  },
  {
   "cell_type": "markdown",
   "id": "c129e3b2",
   "metadata": {},
   "source": [
    "## Design Variables"
   ]
  },
  {
   "cell_type": "code",
   "execution_count": 29,
   "id": "c3b9b0eb",
   "metadata": {},
   "outputs": [],
   "source": [
    "num_flights = 5 # len(flight_numbers)\n",
    "num_gates = len(gates)\n",
    "x = cp.Variable((num_flights, len(gates)), boolean=True)"
   ]
  },
  {
   "cell_type": "markdown",
   "id": "9ff3f175",
   "metadata": {},
   "source": [
    "## Constraint 1 (Every aircraft must be assigned to one and only one gate.)"
   ]
  },
  {
   "cell_type": "code",
   "execution_count": 30,
   "id": "01044bd9",
   "metadata": {},
   "outputs": [],
   "source": [
    "# Every aircraft must be assigned to one and only one gate.\n",
    "constraint_1_list = []\n",
    "for i, x_i in enumerate(x):\n",
    "    constraint_1_list.append(cp.sum(x_i) == 1)"
   ]
  },
  {
   "cell_type": "code",
   "execution_count": 31,
   "id": "9885a979",
   "metadata": {},
   "outputs": [
    {
     "data": {
      "text/plain": [
       "5"
      ]
     },
     "execution_count": 31,
     "metadata": {},
     "output_type": "execute_result"
    }
   ],
   "source": [
    "len(constraint_1_list)"
   ]
  },
  {
   "cell_type": "markdown",
   "id": "88c2d173",
   "metadata": {},
   "source": [
    "## Constraint 2 (No two aircrafts can be assigned to the same gate at the same time.)"
   ]
  },
  {
   "cell_type": "code",
   "execution_count": 32,
   "id": "b862b14d",
   "metadata": {},
   "outputs": [],
   "source": [
    "# No two aircrafts can be assigned to the same gate at the same time.\n",
    "constraint_2_list = []\n",
    "for i, x_i in enumerate(x): \n",
    "    ## Flight numbers start from 1.\n",
    "    ai, di = get_arrival_time(i + 1), get_departure_time(i + 1)\n",
    "    for j, x_j in enumerate(x):\n",
    "        if i <= j:\n",
    "            continue\n",
    "        aj, dj = get_arrival_time(j + 1), get_departure_time(j + 1)\n",
    "        for k in range(num_gates):\n",
    "            constraint = (x_i[k]*x_j[k]*(dj - ai)*(di - aj) <= 0)\n",
    "            constraint_2_list.append(constraint)"
   ]
  },
  {
   "cell_type": "code",
   "execution_count": 33,
   "id": "a599dd2f",
   "metadata": {},
   "outputs": [
    {
     "data": {
      "text/plain": [
       "140"
      ]
     },
     "execution_count": 33,
     "metadata": {},
     "output_type": "execute_result"
    }
   ],
   "source": [
    "len(constraint_2_list)"
   ]
  },
  {
   "cell_type": "markdown",
   "id": "c32e804d",
   "metadata": {},
   "source": [
    "## Define Objective Function"
   ]
  },
  {
   "cell_type": "code",
   "execution_count": 41,
   "id": "d1b2a3ba",
   "metadata": {},
   "outputs": [
    {
     "name": "stdout",
     "output_type": "stream",
     "text": [
      "(5, 14)\n"
     ]
    }
   ],
   "source": [
    "print(x.shape)"
   ]
  },
  {
   "cell_type": "code",
   "execution_count": 42,
   "id": "1de46694",
   "metadata": {},
   "outputs": [],
   "source": [
    "W = np.zeros(x.shape)\n",
    "P = np.zeros(x.shape)"
   ]
  },
  {
   "cell_type": "code",
   "execution_count": 43,
   "id": "d07be4f7",
   "metadata": {},
   "outputs": [],
   "source": [
    "for i in range(W.shape[0]): # iterate over flights\n",
    "    for k in range(W.shape[1]): # iterate over gates\n",
    "        W[i][k] = get_distance(0, k+1) # Gates start from 1\n",
    "        P[i][k] = get_num_passengers(i+1) # Flights start from 1"
   ]
  },
  {
   "cell_type": "code",
   "execution_count": 44,
   "id": "82a6bf97",
   "metadata": {},
   "outputs": [],
   "source": [
    "objective = cp.sum(cp.multiply(cp.multiply(x, W), P))"
   ]
  },
  {
   "cell_type": "code",
   "execution_count": 45,
   "id": "355715ac",
   "metadata": {},
   "outputs": [],
   "source": [
    "# Note: constraint_2_list is a list of non-linear constraints, so we cannot use cvxpy.\n",
    "all_constraints = constraint_1_list # + constraint_2_list\n",
    "problem = cp.Problem(cp.Minimize(objective), all_constraints)"
   ]
  },
  {
   "cell_type": "markdown",
   "id": "fd64dd2a",
   "metadata": {},
   "source": [
    "## Solve Problem"
   ]
  },
  {
   "cell_type": "code",
   "execution_count": 46,
   "id": "f03fd2fd",
   "metadata": {},
   "outputs": [],
   "source": [
    "result = problem.solve(solver=cp.GLPK_MI)"
   ]
  },
  {
   "cell_type": "code",
   "execution_count": 47,
   "id": "0660122b",
   "metadata": {},
   "outputs": [
    {
     "data": {
      "text/plain": [
       "2235.0"
      ]
     },
     "execution_count": 47,
     "metadata": {},
     "output_type": "execute_result"
    }
   ],
   "source": [
    "result"
   ]
  },
  {
   "cell_type": "code",
   "execution_count": 50,
   "id": "14f8db11",
   "metadata": {},
   "outputs": [
    {
     "data": {
      "text/plain": [
       "array([[0., 0., 0., 0., 0., 0., 0., 0., 0., 1., 0., 0., 0., 0.],\n",
       "       [0., 0., 0., 0., 0., 0., 0., 0., 0., 1., 0., 0., 0., 0.],\n",
       "       [0., 0., 0., 0., 0., 0., 0., 0., 0., 1., 0., 0., 0., 0.],\n",
       "       [0., 0., 0., 0., 0., 0., 0., 0., 0., 1., 0., 0., 0., 0.],\n",
       "       [0., 0., 0., 0., 0., 0., 0., 0., 0., 1., 0., 0., 0., 0.]])"
      ]
     },
     "execution_count": 50,
     "metadata": {},
     "output_type": "execute_result"
    }
   ],
   "source": [
    "x.value"
   ]
  },
  {
   "cell_type": "markdown",
   "id": "f70fbdc1",
   "metadata": {},
   "source": [
    "## Gurobi"
   ]
  },
  {
   "cell_type": "code",
   "execution_count": 60,
   "id": "e3ef5537",
   "metadata": {},
   "outputs": [],
   "source": [
    "num_flights = 5\n",
    "num_gates = 14"
   ]
  },
  {
   "cell_type": "code",
   "execution_count": 61,
   "id": "099eec43",
   "metadata": {},
   "outputs": [
    {
     "data": {
      "text/plain": [
       "['Flight_1', 'Flight_2', 'Flight_3', 'Flight_4', 'Flight_5']"
      ]
     },
     "execution_count": 61,
     "metadata": {},
     "output_type": "execute_result"
    }
   ],
   "source": [
    "F = [f\"Flight_{i}\" for i in range(1, num_flights + 1)]\n",
    "F"
   ]
  },
  {
   "cell_type": "code",
   "execution_count": 62,
   "id": "80d2a1be",
   "metadata": {},
   "outputs": [
    {
     "data": {
      "text/plain": [
       "['Gate_1',\n",
       " 'Gate_2',\n",
       " 'Gate_3',\n",
       " 'Gate_4',\n",
       " 'Gate_5',\n",
       " 'Gate_6',\n",
       " 'Gate_7',\n",
       " 'Gate_8',\n",
       " 'Gate_9',\n",
       " 'Gate_10',\n",
       " 'Gate_11',\n",
       " 'Gate_12',\n",
       " 'Gate_13',\n",
       " 'Gate_14']"
      ]
     },
     "execution_count": 62,
     "metadata": {},
     "output_type": "execute_result"
    }
   ],
   "source": [
    "G = [f\"Gate_{i}\" for i in range(1, num_gates + 1)]\n",
    "G"
   ]
  },
  {
   "cell_type": "code",
   "execution_count": 63,
   "id": "ba6ab289",
   "metadata": {},
   "outputs": [],
   "source": [
    "flight_gate_dict = dict()\n",
    "for f in F:\n",
    "    for g in G:\n",
    "        i = int(f.split(\"_\")[1])\n",
    "        j = int(g.split(\"_\")[1])\n",
    "        p = get_num_passengers(i)\n",
    "        w = get_distance(0, j)\n",
    "        flight_gate_dict[(f,g)] = [p, w]"
   ]
  },
  {
   "cell_type": "code",
   "execution_count": 64,
   "id": "0c2d0c92",
   "metadata": {},
   "outputs": [],
   "source": [
    "flight_gate_vars, distances, passengers = gp.multidict(flight_gate_dict)"
   ]
  },
  {
   "cell_type": "code",
   "execution_count": 65,
   "id": "df1ccee4",
   "metadata": {},
   "outputs": [
    {
     "name": "stdout",
     "output_type": "stream",
     "text": [
      "Set parameter Username\n",
      "Academic license - for non-commercial use only - expires 2022-06-28\n"
     ]
    }
   ],
   "source": [
    "m = gp.Model('RAP')"
   ]
  },
  {
   "cell_type": "markdown",
   "id": "a0f48363",
   "metadata": {},
   "source": [
    "### Design Variables"
   ]
  },
  {
   "cell_type": "code",
   "execution_count": 66,
   "id": "d5932509",
   "metadata": {},
   "outputs": [],
   "source": [
    "# flight_gate_vars = [(f, g) for f in F for g in G]\n",
    "x = m.addVars(flight_gate_vars, name=\"assign\")"
   ]
  },
  {
   "cell_type": "markdown",
   "id": "5d80944a",
   "metadata": {},
   "source": [
    "### Constraint 1"
   ]
  },
  {
   "cell_type": "code",
   "execution_count": 67,
   "id": "f02badee",
   "metadata": {},
   "outputs": [],
   "source": [
    "constraint_1 = m.addConstrs((x.sum(f,'*') == 1 for f in F), name=\"constraint_1\")"
   ]
  },
  {
   "cell_type": "code",
   "execution_count": 68,
   "id": "769bc9a7",
   "metadata": {},
   "outputs": [
    {
     "data": {
      "text/plain": [
       "{'Flight_1': <gurobi.Constr *Awaiting Model Update*>,\n",
       " 'Flight_2': <gurobi.Constr *Awaiting Model Update*>,\n",
       " 'Flight_3': <gurobi.Constr *Awaiting Model Update*>,\n",
       " 'Flight_4': <gurobi.Constr *Awaiting Model Update*>,\n",
       " 'Flight_5': <gurobi.Constr *Awaiting Model Update*>}"
      ]
     },
     "execution_count": 68,
     "metadata": {},
     "output_type": "execute_result"
    }
   ],
   "source": [
    "constraint_1"
   ]
  },
  {
   "cell_type": "markdown",
   "id": "74a8ef90",
   "metadata": {},
   "source": [
    "### Constraint 2"
   ]
  },
  {
   "cell_type": "code",
   "execution_count": 69,
   "id": "1403bd2b",
   "metadata": {},
   "outputs": [],
   "source": [
    "for f1 in F:\n",
    "    i = int(f1.split(\"_\")[1])\n",
    "    ai, di = get_arrival_time(i), get_departure_time(i)\n",
    "    for f2 in F:\n",
    "        j = int(f2.split(\"_\")[1])\n",
    "        if i <= j:\n",
    "            continue\n",
    "        aj, dj = get_arrival_time(j), get_departure_time(j)\n",
    "        for g in G:\n",
    "            name = f\"{f1},{f2},{g}\"\n",
    "            const = m.addConstr((x[(f1, g)] * x[(f2, g)] * (dj - ai) * (di - aj)) <= 0, name=f\"{f1},{f2},{g}\")"
   ]
  },
  {
   "cell_type": "markdown",
   "id": "565e97bd",
   "metadata": {},
   "source": [
    "### Objective Function"
   ]
  },
  {
   "cell_type": "code",
   "execution_count": 75,
   "id": "8c487677",
   "metadata": {},
   "outputs": [
    {
     "data": {
      "text/plain": [
       "{('Flight_1', 'Gate_1'): <gurobi.Var assign[Flight_1,Gate_1] (value 0.0)>,\n",
       " ('Flight_1', 'Gate_2'): <gurobi.Var assign[Flight_1,Gate_2] (value 0.0)>,\n",
       " ('Flight_1', 'Gate_3'): <gurobi.Var assign[Flight_1,Gate_3] (value 0.0)>,\n",
       " ('Flight_1', 'Gate_4'): <gurobi.Var assign[Flight_1,Gate_4] (value 0.0)>,\n",
       " ('Flight_1', 'Gate_5'): <gurobi.Var assign[Flight_1,Gate_5] (value 0.0)>,\n",
       " ('Flight_1', 'Gate_6'): <gurobi.Var assign[Flight_1,Gate_6] (value 0.0)>,\n",
       " ('Flight_1', 'Gate_7'): <gurobi.Var assign[Flight_1,Gate_7] (value 0.0)>,\n",
       " ('Flight_1', 'Gate_8'): <gurobi.Var assign[Flight_1,Gate_8] (value 0.0)>,\n",
       " ('Flight_1', 'Gate_9'): <gurobi.Var assign[Flight_1,Gate_9] (value 0.0)>,\n",
       " ('Flight_1', 'Gate_10'): <gurobi.Var assign[Flight_1,Gate_10] (value 1.0)>,\n",
       " ('Flight_1', 'Gate_11'): <gurobi.Var assign[Flight_1,Gate_11] (value 0.0)>,\n",
       " ('Flight_1', 'Gate_12'): <gurobi.Var assign[Flight_1,Gate_12] (value 0.0)>,\n",
       " ('Flight_1', 'Gate_13'): <gurobi.Var assign[Flight_1,Gate_13] (value 0.0)>,\n",
       " ('Flight_1', 'Gate_14'): <gurobi.Var assign[Flight_1,Gate_14] (value 0.0)>,\n",
       " ('Flight_2', 'Gate_1'): <gurobi.Var assign[Flight_2,Gate_1] (value 0.0)>,\n",
       " ('Flight_2', 'Gate_2'): <gurobi.Var assign[Flight_2,Gate_2] (value 0.0)>,\n",
       " ('Flight_2', 'Gate_3'): <gurobi.Var assign[Flight_2,Gate_3] (value 0.0)>,\n",
       " ('Flight_2', 'Gate_4'): <gurobi.Var assign[Flight_2,Gate_4] (value 0.0)>,\n",
       " ('Flight_2', 'Gate_5'): <gurobi.Var assign[Flight_2,Gate_5] (value 0.0)>,\n",
       " ('Flight_2', 'Gate_6'): <gurobi.Var assign[Flight_2,Gate_6] (value 0.0)>,\n",
       " ('Flight_2', 'Gate_7'): <gurobi.Var assign[Flight_2,Gate_7] (value 0.0)>,\n",
       " ('Flight_2', 'Gate_8'): <gurobi.Var assign[Flight_2,Gate_8] (value 1.0)>,\n",
       " ('Flight_2', 'Gate_9'): <gurobi.Var assign[Flight_2,Gate_9] (value 0.0)>,\n",
       " ('Flight_2', 'Gate_10'): <gurobi.Var assign[Flight_2,Gate_10] (value 0.0)>,\n",
       " ('Flight_2', 'Gate_11'): <gurobi.Var assign[Flight_2,Gate_11] (value 0.0)>,\n",
       " ('Flight_2', 'Gate_12'): <gurobi.Var assign[Flight_2,Gate_12] (value 0.0)>,\n",
       " ('Flight_2', 'Gate_13'): <gurobi.Var assign[Flight_2,Gate_13] (value 0.0)>,\n",
       " ('Flight_2', 'Gate_14'): <gurobi.Var assign[Flight_2,Gate_14] (value 0.0)>,\n",
       " ('Flight_3', 'Gate_1'): <gurobi.Var assign[Flight_3,Gate_1] (value 0.0)>,\n",
       " ('Flight_3', 'Gate_2'): <gurobi.Var assign[Flight_3,Gate_2] (value 0.0)>,\n",
       " ('Flight_3', 'Gate_3'): <gurobi.Var assign[Flight_3,Gate_3] (value 0.0)>,\n",
       " ('Flight_3', 'Gate_4'): <gurobi.Var assign[Flight_3,Gate_4] (value 0.0)>,\n",
       " ('Flight_3', 'Gate_5'): <gurobi.Var assign[Flight_3,Gate_5] (value 0.0)>,\n",
       " ('Flight_3', 'Gate_6'): <gurobi.Var assign[Flight_3,Gate_6] (value 0.0)>,\n",
       " ('Flight_3', 'Gate_7'): <gurobi.Var assign[Flight_3,Gate_7] (value 0.0)>,\n",
       " ('Flight_3', 'Gate_8'): <gurobi.Var assign[Flight_3,Gate_8] (value 0.0)>,\n",
       " ('Flight_3', 'Gate_9'): <gurobi.Var assign[Flight_3,Gate_9] (value 1.0)>,\n",
       " ('Flight_3', 'Gate_10'): <gurobi.Var assign[Flight_3,Gate_10] (value 0.0)>,\n",
       " ('Flight_3', 'Gate_11'): <gurobi.Var assign[Flight_3,Gate_11] (value 0.0)>,\n",
       " ('Flight_3', 'Gate_12'): <gurobi.Var assign[Flight_3,Gate_12] (value 0.0)>,\n",
       " ('Flight_3', 'Gate_13'): <gurobi.Var assign[Flight_3,Gate_13] (value 0.0)>,\n",
       " ('Flight_3', 'Gate_14'): <gurobi.Var assign[Flight_3,Gate_14] (value 0.0)>,\n",
       " ('Flight_4', 'Gate_1'): <gurobi.Var assign[Flight_4,Gate_1] (value 0.0)>,\n",
       " ('Flight_4', 'Gate_2'): <gurobi.Var assign[Flight_4,Gate_2] (value 0.0)>,\n",
       " ('Flight_4', 'Gate_3'): <gurobi.Var assign[Flight_4,Gate_3] (value 0.0)>,\n",
       " ('Flight_4', 'Gate_4'): <gurobi.Var assign[Flight_4,Gate_4] (value 0.0)>,\n",
       " ('Flight_4', 'Gate_5'): <gurobi.Var assign[Flight_4,Gate_5] (value 0.0)>,\n",
       " ('Flight_4', 'Gate_6'): <gurobi.Var assign[Flight_4,Gate_6] (value 0.0)>,\n",
       " ('Flight_4', 'Gate_7'): <gurobi.Var assign[Flight_4,Gate_7] (value 0.0)>,\n",
       " ('Flight_4', 'Gate_8'): <gurobi.Var assign[Flight_4,Gate_8] (value 0.0)>,\n",
       " ('Flight_4', 'Gate_9'): <gurobi.Var assign[Flight_4,Gate_9] (value 0.0)>,\n",
       " ('Flight_4', 'Gate_10'): <gurobi.Var assign[Flight_4,Gate_10] (value 0.0)>,\n",
       " ('Flight_4', 'Gate_11'): <gurobi.Var assign[Flight_4,Gate_11] (value 0.0)>,\n",
       " ('Flight_4', 'Gate_12'): <gurobi.Var assign[Flight_4,Gate_12] (value 1.0)>,\n",
       " ('Flight_4', 'Gate_13'): <gurobi.Var assign[Flight_4,Gate_13] (value 0.0)>,\n",
       " ('Flight_4', 'Gate_14'): <gurobi.Var assign[Flight_4,Gate_14] (value 0.0)>,\n",
       " ('Flight_5', 'Gate_1'): <gurobi.Var assign[Flight_5,Gate_1] (value 0.0)>,\n",
       " ('Flight_5', 'Gate_2'): <gurobi.Var assign[Flight_5,Gate_2] (value 0.0)>,\n",
       " ('Flight_5', 'Gate_3'): <gurobi.Var assign[Flight_5,Gate_3] (value 0.0)>,\n",
       " ('Flight_5', 'Gate_4'): <gurobi.Var assign[Flight_5,Gate_4] (value 0.0)>,\n",
       " ('Flight_5', 'Gate_5'): <gurobi.Var assign[Flight_5,Gate_5] (value 0.0)>,\n",
       " ('Flight_5', 'Gate_6'): <gurobi.Var assign[Flight_5,Gate_6] (value 0.0)>,\n",
       " ('Flight_5', 'Gate_7'): <gurobi.Var assign[Flight_5,Gate_7] (value 0.0)>,\n",
       " ('Flight_5', 'Gate_8'): <gurobi.Var assign[Flight_5,Gate_8] (value 0.0)>,\n",
       " ('Flight_5', 'Gate_9'): <gurobi.Var assign[Flight_5,Gate_9] (value 0.0)>,\n",
       " ('Flight_5', 'Gate_10'): <gurobi.Var assign[Flight_5,Gate_10] (value 0.0)>,\n",
       " ('Flight_5', 'Gate_11'): <gurobi.Var assign[Flight_5,Gate_11] (value 1.0)>,\n",
       " ('Flight_5', 'Gate_12'): <gurobi.Var assign[Flight_5,Gate_12] (value 0.0)>,\n",
       " ('Flight_5', 'Gate_13'): <gurobi.Var assign[Flight_5,Gate_13] (value 0.0)>,\n",
       " ('Flight_5', 'Gate_14'): <gurobi.Var assign[Flight_5,Gate_14] (value 0.0)>}"
      ]
     },
     "execution_count": 75,
     "metadata": {},
     "output_type": "execute_result"
    }
   ],
   "source": [
    "x"
   ]
  },
  {
   "cell_type": "code",
   "execution_count": 81,
   "id": "a8152317",
   "metadata": {},
   "outputs": [],
   "source": [
    "objective = 0\n",
    "for var_name in x.keys():\n",
    "    xij = x[var_name]\n",
    "    i = int(var_name[0].split(\"_\")[1])\n",
    "    j = int(var_name[1].split(\"_\")[1])\n",
    "    objective += xij * get_num_passengers(i) * get_distance(0, j)"
   ]
  },
  {
   "cell_type": "code",
   "execution_count": 82,
   "id": "bca45dc5",
   "metadata": {},
   "outputs": [],
   "source": [
    "# distances_times_passengers = {k: distances[k]*passengers[k] for k in distances}\n",
    "# m.setObjective(x.prod(distances_times_passengers), GRB.MINIMIZE)\n",
    "m.setObjective(objective, GRB.MINIMIZE)"
   ]
  },
  {
   "cell_type": "markdown",
   "id": "4d3d5d15",
   "metadata": {},
   "source": [
    "### Optimize"
   ]
  },
  {
   "cell_type": "code",
   "execution_count": 83,
   "id": "41d74c74",
   "metadata": {},
   "outputs": [
    {
     "name": "stdout",
     "output_type": "stream",
     "text": [
      "Gurobi Optimizer version 9.5.1 build v9.5.1rc2 (mac64[x86])\n",
      "Thread count: 4 physical cores, 8 logical processors, using up to 8 threads\n",
      "Optimize a model with 5 rows, 70 columns and 70 nonzeros\n",
      "Model fingerprint: 0x297e3d22\n",
      "Model has 140 quadratic constraints\n",
      "Variable types: 70 continuous, 0 integer (0 binary)\n",
      "Coefficient statistics:\n",
      "  Matrix range     [1e+00, 1e+00]\n",
      "  QMatrix range    [1e+04, 2e+04]\n",
      "  Objective range  [3e+02, 1e+04]\n",
      "  Bounds range     [0e+00, 0e+00]\n",
      "  RHS range        [1e+00, 1e+00]\n",
      "\n",
      "MIP start from previous solve produced solution with objective 8503 (0.02s)\n",
      "Loaded MIP start from previous solve with objective 8503\n",
      "\n",
      "Presolve time: 0.00s\n",
      "Presolved: 285 rows, 70 columns, 350 nonzeros\n",
      "Presolved model has 140 bilinear constraint(s)\n",
      "Variable types: 70 continuous, 0 integer (0 binary)\n",
      "\n",
      "Root relaxation: objective 4.470000e+03, 5 iterations, 0.00 seconds (0.00 work units)\n",
      "\n",
      "    Nodes    |    Current Node    |     Objective Bounds      |     Work\n",
      " Expl Unexpl |  Obj  Depth IntInf | Incumbent    BestBd   Gap | It/Node Time\n",
      "\n",
      "     0     0 4470.00000    0   20 8503.00000 4470.00000  47.4%     -    0s\n",
      "     0     0 8056.00000    0    8 8503.00000 8056.00000  5.26%     -    0s\n",
      "\n",
      "Cutting planes:\n",
      "  RLT: 4\n",
      "  BQP: 2\n",
      "\n",
      "Explored 1 nodes (17 simplex iterations) in 0.06 seconds (0.01 work units)\n",
      "Thread count was 8 (of 8 available processors)\n",
      "\n",
      "Solution count 1: 8503 \n",
      "\n",
      "Optimal solution found (tolerance 1.00e-01)\n",
      "Best objective 8.503000000000e+03, best bound 8.056000000000e+03, gap 5.2570%\n"
     ]
    }
   ],
   "source": [
    "m.params.NonConvex = 2\n",
    "m.params.MIPGap = 0.1\n",
    "m.Params.TimeLimit = 600\n",
    "m.optimize()"
   ]
  },
  {
   "cell_type": "markdown",
   "id": "7fd04a18",
   "metadata": {},
   "source": [
    "### Inspect Results"
   ]
  },
  {
   "cell_type": "code",
   "execution_count": 72,
   "id": "a4628756",
   "metadata": {},
   "outputs": [
    {
     "name": "stdout",
     "output_type": "stream",
     "text": [
      "assign[Flight_1,Gate_10] 1.0\n",
      "assign[Flight_2,Gate_8] 1.0\n",
      "assign[Flight_3,Gate_9] 1.0\n",
      "assign[Flight_4,Gate_12] 1.0\n",
      "assign[Flight_5,Gate_11] 1.0\n",
      "Total matching score:  8503.0\n"
     ]
    }
   ],
   "source": [
    "for v in m.getVars():\n",
    "    if v.x > 1e-6:\n",
    "        print(v.varName, v.x)\n",
    "\n",
    "# Display optimal total matching score\n",
    "print('Total matching score: ', m.objVal)"
   ]
  },
  {
   "cell_type": "code",
   "execution_count": null,
   "id": "9f2f531e",
   "metadata": {},
   "outputs": [],
   "source": []
  }
 ],
 "metadata": {
  "kernelspec": {
   "display_name": "Python 3",
   "language": "python",
   "name": "python3"
  },
  "language_info": {
   "codemirror_mode": {
    "name": "ipython",
    "version": 3
   },
   "file_extension": ".py",
   "mimetype": "text/x-python",
   "name": "python",
   "nbconvert_exporter": "python",
   "pygments_lexer": "ipython3",
   "version": "3.8.13"
  }
 },
 "nbformat": 4,
 "nbformat_minor": 5
}
